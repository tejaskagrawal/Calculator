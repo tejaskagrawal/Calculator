{
 "cells": [
  {
   "cell_type": "code",
   "execution_count": null,
   "id": "c745d4af",
   "metadata": {},
   "outputs": [
    {
     "name": "stdout",
     "output_type": "stream",
     "text": [
      "Enter 'a' for addition \n",
      "Enter 's' for substration \n",
      "Enter 'm' for multiplication \n",
      "Enter 'v' for average \n",
      "Enter 'q' for quit\n",
      " s\n",
      "substraction\n",
      "enter the number:  23\n",
      "enter another number(0 to calculate): 12\n",
      "enter another number(0 to calculate): 0\n",
      "Ans= 11.0 total inputs 2\n",
      "Enter 'a' for addition \n",
      "Enter 's' for substration \n",
      "Enter 'm' for multiplication \n",
      "Enter 'v' for average \n",
      "Enter 'q' for quit\n"
     ]
    }
   ],
   "source": [
    "def addition ():\n",
    "    print(\"addition\")\n",
    "    n=float(input(\"Enter the number:\"))\n",
    "    t=0 \n",
    "    ans=0\n",
    "    while n!=0:\n",
    "        ans=ans+n\n",
    "        t+=1\n",
    "        n=float(input(\"enter another number (0 to calculater):\"))\n",
    "    return [ans,t]\n",
    "def substration ():\n",
    "    print(\"substraction\")\n",
    "    n= float(input(\"enter the number:  \"))\n",
    "    t=0\n",
    "    ans=0\n",
    "    while n!= 0:\n",
    "        ans=-(ans-n)\n",
    "        t+=1\n",
    "        n=float(input(\"enter another number(0 to calculate): \"))\n",
    "    return [-ans,t]\n",
    "def Multipication  ():\n",
    "    print(\"Multipication\")\n",
    "    n= float(input(\"enter the number:  \"))\n",
    "    t=0\n",
    "    ans=1\n",
    "    while n!= 0:\n",
    "        ans=ans*n\n",
    "        t+=1\n",
    "        n=float(input(\"enter another number(0 to calculate): \"))\n",
    "    return [ans,t]\n",
    "def average ():\n",
    "    an=[]\n",
    "    an=addition()\n",
    "    t=an[1]\n",
    "    a=an[0]\n",
    "    ans=a/t\n",
    "    return[ans,t]\n",
    "while True:\n",
    "    list = []\n",
    "    print(\"Enter 'a' for addition \" )    \n",
    "    print(\"Enter 's' for substration \" )\n",
    "    print(\"Enter 'm' for multiplication \" )\n",
    "    print(\"Enter 'v' for average \" )\n",
    "    print(\"Enter 'q' for quit\" )\n",
    "    c= input (\" \")\n",
    "    if c!='q':\n",
    "        if c=='a':\n",
    "            list = addition()\n",
    "            print(\"Ans=\",list[0],\"total inputs\",list[1])\n",
    "        elif c=='s':\n",
    "             list = substration()\n",
    "             print(\"Ans=\",list[0],\"total inputs\",list[1])\n",
    "        elif c=='m':\n",
    "             list = Multipication()\n",
    "             print(\"Ans=\",list[0],\"total inputs\",list[1])\n",
    "        elif c=='v':\n",
    "             list = average()\n",
    "             print(\"Ans=\",list[0],\"total inputs\",list[1])\n",
    "        else:\n",
    "            print(\"sorry , invalid charater\")\n",
    "    else:\n",
    "        break\n",
    "\n",
    "\n"
   ]
  },
  {
   "cell_type": "code",
   "execution_count": null,
   "id": "80205d08",
   "metadata": {},
   "outputs": [],
   "source": []
  },
  {
   "cell_type": "code",
   "execution_count": null,
   "id": "093f645f",
   "metadata": {},
   "outputs": [],
   "source": []
  }
 ],
 "metadata": {
  "kernelspec": {
   "display_name": "Python 3 (ipykernel)",
   "language": "python",
   "name": "python3"
  },
  "language_info": {
   "codemirror_mode": {
    "name": "ipython",
    "version": 3
   },
   "file_extension": ".py",
   "mimetype": "text/x-python",
   "name": "python",
   "nbconvert_exporter": "python",
   "pygments_lexer": "ipython3",
   "version": "3.9.7"
  }
 },
 "nbformat": 4,
 "nbformat_minor": 5
}
